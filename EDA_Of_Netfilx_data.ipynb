{
  "nbformat": 4,
  "nbformat_minor": 0,
  "metadata": {
    "colab": {
      "private_outputs": true,
      "provenance": [],
      "collapsed_sections": [
        "HhfV-JJviCcP",
        "nA9Y7ga8ng1Z",
        "dauF4eBmngu3",
        "0wOQAZs5pc--",
        "KSlN3yHqYklG",
        "EM7whBJCYoAo",
        "4Of9eVA-YrdM",
        "bamQiAODYuh1",
        "OH-pJp9IphqM",
        "PIIx-8_IphqN",
        "BZR9WyysphqO",
        "YJ55k-q6phqO",
        "U2RJ9gkRphqQ",
        "x-EpHcCOp1ci",
        "n3dbpmDWp1ck",
        "Ag9LCva-p1cl",
        "NC_X3p0fY2L0",
        "q29F0dvdveiT",
        "JcMwzZxoAimU",
        "gCX9965dhzqZ"
      ]
    },
    "kernelspec": {
      "name": "python3",
      "display_name": "Python 3"
    },
    "language_info": {
      "name": "python"
    }
  },
  "cells": [
    {
      "cell_type": "code",
      "source": [],
      "metadata": {
        "id": "I1apcow5dxii"
      },
      "execution_count": null,
      "outputs": []
    },
    {
      "cell_type": "markdown",
      "source": [
        "# **Project Name**- EDA Of Netflix data\n",
        "\n"
      ],
      "metadata": {
        "id": "vncDsAP0Gaoa"
      }
    },
    {
      "cell_type": "markdown",
      "source": [
        "##### **Project Type**    - EDA\n",
        "##### **Contribution**    - Individual\n",
        "##### **Team Member - Rashi Jain**\n"
      ],
      "metadata": {
        "id": "beRrZCGUAJYm"
      }
    },
    {
      "cell_type": "markdown",
      "source": [
        "# **Project Summary**"
      ],
      "metadata": {
        "id": "FJNUwmbgGyua"
      }
    },
    {
      "cell_type": "markdown",
      "source": [
        "The Netflix Content Analysis and Clustering Project focuses on understanding Netflix’s vast and diverse content library using data analysis, visualization, and clustering techniques. Netflix, being one of the largest streaming platforms globally, offers thousands of movies and TV shows across multiple genres, ratings, and regions. However, with such a massive catalog, users often face difficulty discovering shows that match their interests. Hence, this project aims to analyze the dataset to identify meaningful patterns, trends, and similarities among different types of content — ultimately helping Netflix enhance its recommendation system and strategic decision-making.\n",
        "\n",
        "The dataset used in this project contains information about various Netflix titles, including attributes such as type (Movie/TV Show), title, director, cast, country, release year, rating, duration, and listed genres. The first phase of the project involves data wrangling, which includes cleaning missing values, handling duplicates, and preparing the data for analysis. Once the data is structured and refined, the project proceeds to exploratory data analysis (EDA), where several visualizations are created to uncover patterns and insights.\n",
        "\n",
        "The analysis begins with univariate analysis, focusing on individual variables. For example, charts like “Count of Movies vs TV Shows” reveal that Netflix’s library is dominated by movies compared to TV shows. Similarly, “Top 10 Countries Producing Netflix Content” identifies that the United States, India, and the United Kingdom are the top contributors, highlighting Netflix’s global content strategy. The distribution of ratings such as TV-MA, TV-14, and R indicates that Netflix primarily caters to mature and teenage audiences.\n",
        "\n",
        "The bivariate and multivariate analyses explore relationships between different variables. Visualizations such as release trends over the years show Netflix’s rapid content expansion post-2015, coinciding with its international growth phase. Duration-based analysis highlights the difference between movies (in minutes) and TV shows (in seasons). Genre-based word clouds and bar charts uncover the popularity of genres like Dramas, Comedies, and International Movies, demonstrating the audience’s preference for emotionally engaging and diverse storytelling.\n",
        "\n",
        "Further, correlation heatmaps and pair plots are used to understand numerical relationships between variables like release year, duration, and ratings. These visualizations provide a statistical overview of the dataset, helping identify which attributes might influence others. For example, newer releases tend to have more diverse genres and shorter durations to align with modern viewing preferences.\n",
        "\n",
        "After the exploratory analysis, the project transitions into content-based clustering, where machine learning techniques such as K-Means, Hierarchical Clustering, or DBSCAN are applied. By transforming text-based attributes like genre and description into numerical representations using methods like TF-IDF (Term Frequency–Inverse Document Frequency), the clustering algorithms group similar titles together. These clusters represent sets of movies or shows with similar content, genre, or style. This step is crucial for building recommendation systems — allowing Netflix to suggest shows that align closely with users’ past preferences.\n",
        "\n",
        "The business objective of this project is to help Netflix leverage data-driven insights for strategic benefits. The clustering results can improve personalized recommendations, identify content gaps, and support regional and genre-based marketing strategies. For instance, if a cluster reveals an underrepresented genre or region, Netflix can focus its production or licensing efforts accordingly.\n",
        "\n",
        "In conclusion, this project provides a comprehensive overview of Netflix’s content landscape through detailed visual and statistical analysis. It highlights how Netflix’s catalog has evolved, what types of content dominate the platform, and how advanced clustering can uncover hidden relationships within data. By integrating these insights, Netflix can enhance user satisfaction through better content discovery, optimize production strategies, and maintain its leadership in the competitive streaming industry. The project demonstrates the power of data analytics and machine learning in turning raw data into actionable business intelligence — a critical advantage in today’s data-driven entertainment market."
      ],
      "metadata": {
        "id": "F6v_1wHtG2nS"
      }
    },
    {
      "cell_type": "markdown",
      "source": [
        "# **GitHub Link -**"
      ],
      "metadata": {
        "id": "w6K7xa23Elo4"
      }
    },
    {
      "cell_type": "markdown",
      "source": [
        "https://github.com/rashij08/Netflix-Content-Clustering.git"
      ],
      "metadata": {
        "id": "h1o69JH3Eqqn"
      }
    },
    {
      "cell_type": "markdown",
      "source": [
        "# **Problem Statement**\n"
      ],
      "metadata": {
        "id": "yQaldy8SH6Dl"
      }
    },
    {
      "cell_type": "markdown",
      "source": [
        "Netflix has a vast library of content spanning multiple genres, durations, and ratings. However, users often face difficulty discovering shows that match their preferences due to the platform’s large catalog. The goal is to perform content-based clustering on the Netflix dataset to group similar shows/movies together based on their attributes such as genre, rating, duration, and description.\n",
        "This will help Netflix improve its recommendation system, content strategy, and marketing decisions."
      ],
      "metadata": {
        "id": "DpeJGUA3kjGy"
      }
    },
    {
      "cell_type": "markdown",
      "source": [
        "#### **Define Your Business Objective?**"
      ],
      "metadata": {
        "id": "PH-0ReGfmX4f"
      }
    },
    {
      "cell_type": "markdown",
      "source": [
        "\n",
        "The primary business objective is to segment Netflix’s catalog using clustering techniques (such as K-Means, Hierarchical, or DBSCAN) to:\n",
        "\n",
        "Identify content clusters — e.g., grouping shows by genre similarity, release period, or rating.\n",
        "\n",
        "Understand user content preferences indirectly by observing content groupings.\n",
        "\n",
        "Help Netflix make data-driven decisions such as:\n",
        "\n",
        "Recommending similar types of shows to users.\n",
        "\n",
        "Identifying underrepresented content clusters for future production.\n",
        "\n",
        "Enhancing regional and genre-based marketing strategies.\n",
        "\n",
        "By discovering these insights, Netflix can improve content personalization, curation, and strategic planning, leading to better user engagement and satisfaction."
      ],
      "metadata": {
        "id": "PhDvGCAqmjP1"
      }
    },
    {
      "cell_type": "markdown",
      "source": [
        "# **General Guidelines** : -  "
      ],
      "metadata": {
        "id": "mDgbUHAGgjLW"
      }
    },
    {
      "cell_type": "markdown",
      "source": [
        "1.   Well-structured, formatted, and commented code is required.\n",
        "2.   Exception Handling, Production Grade Code & Deployment Ready Code will be a plus. Those students will be awarded some additional credits.\n",
        "     \n",
        "     The additional credits will have advantages over other students during Star Student selection.\n",
        "       \n",
        "             [ Note: - Deployment Ready Code is defined as, the whole .ipynb notebook should be executable in one go\n",
        "                       without a single error logged. ]\n",
        "\n",
        "3.   Each and every logic should have proper comments.\n",
        "4. You may add as many number of charts you want. Make Sure for each and every chart the following format should be answered.\n",
        "        \n",
        "\n",
        "```\n",
        "# Chart visualization code\n",
        "```\n",
        "            \n",
        "\n",
        "*   Why did you pick the specific chart?\n",
        "*   What is/are the insight(s) found from the chart?\n",
        "* Will the gained insights help creating a positive business impact?\n",
        "Are there any insights that lead to negative growth? Justify with specific reason.\n",
        "\n",
        "5. You have to create at least 20 logical & meaningful charts having important insights.\n",
        "\n",
        "\n",
        "[ Hints : - Do the Vizualization in  a structured way while following \"UBM\" Rule.\n",
        "\n",
        "U - Univariate Analysis,\n",
        "\n",
        "B - Bivariate Analysis (Numerical - Categorical, Numerical - Numerical, Categorical - Categorical)\n",
        "\n",
        "M - Multivariate Analysis\n",
        " ]\n",
        "\n",
        "\n",
        "\n"
      ],
      "metadata": {
        "id": "ZrxVaUj-hHfC"
      }
    },
    {
      "cell_type": "markdown",
      "source": [
        "# ***Let's Begin !***"
      ],
      "metadata": {
        "id": "O_i_v8NEhb9l"
      }
    },
    {
      "cell_type": "markdown",
      "source": [
        "## ***1. Know Your Data***"
      ],
      "metadata": {
        "id": "HhfV-JJviCcP"
      }
    },
    {
      "cell_type": "markdown",
      "source": [
        "### Import Libraries"
      ],
      "metadata": {
        "id": "Y3lxredqlCYt"
      }
    },
    {
      "cell_type": "code",
      "source": [
        "# Import Libraries\n",
        "import pandas as pd                     # For data manipulation\n",
        "import numpy as np                      # For numerical operations\n",
        "import matplotlib.pyplot as plt         # For visualization\n",
        "import seaborn as sns                   # For advanced visualization\n",
        "import missingno as msno                # For missing value visualization"
      ],
      "metadata": {
        "id": "M8Vqi-pPk-HR"
      },
      "execution_count": null,
      "outputs": []
    },
    {
      "cell_type": "markdown",
      "source": [
        "### Dataset Loading"
      ],
      "metadata": {
        "id": "3RnN4peoiCZX"
      }
    },
    {
      "cell_type": "code",
      "source": [
        "# Load Dataset\n",
        "df = pd.read_csv(\"NETFLIX MOVIES AND TV SHOWS CLUSTERING.csv\")"
      ],
      "metadata": {
        "id": "4CkvbW_SlZ_R"
      },
      "execution_count": null,
      "outputs": []
    },
    {
      "cell_type": "markdown",
      "source": [],
      "metadata": {
        "id": "Y7EAs7W5EV4U"
      }
    },
    {
      "cell_type": "markdown",
      "source": [
        "### Dataset First View"
      ],
      "metadata": {
        "id": "x71ZqKXriCWQ"
      }
    },
    {
      "cell_type": "code",
      "source": [
        "# Dataset First Look\n",
        "# Display the first 5 rows of the dataset\n",
        "print(\"🔹 First 5 Rows of Dataset:\")\n",
        "display(df.head())"
      ],
      "metadata": {
        "id": "LWNFOSvLl09H"
      },
      "execution_count": null,
      "outputs": []
    },
    {
      "cell_type": "markdown",
      "source": [
        "### Dataset Rows & Columns count"
      ],
      "metadata": {
        "id": "7hBIi_osiCS2"
      }
    },
    {
      "cell_type": "code",
      "source": [
        "# Dataset Rows & Columns count\n",
        "rows, cols = df.shape\n",
        "print(f\"🔹 Number of Rows: {rows}\")\n",
        "print(f\"🔹 Number of Columns: {cols}\")"
      ],
      "metadata": {
        "id": "Kllu7SJgmLij"
      },
      "execution_count": null,
      "outputs": []
    },
    {
      "cell_type": "markdown",
      "source": [
        "### Dataset Information"
      ],
      "metadata": {
        "id": "JlHwYmJAmNHm"
      }
    },
    {
      "cell_type": "code",
      "source": [
        "# Dataset Info\n",
        "print(\"🔹 Dataset Info:\")\n",
        "df.info()"
      ],
      "metadata": {
        "id": "e9hRXRi6meOf"
      },
      "execution_count": null,
      "outputs": []
    },
    {
      "cell_type": "markdown",
      "source": [
        "#### Duplicate Values"
      ],
      "metadata": {
        "id": "35m5QtbWiB9F"
      }
    },
    {
      "cell_type": "code",
      "source": [
        "# Dataset Duplicate Value Count\n",
        "duplicate_count = df.duplicated().sum()\n",
        "print(f\"🔹 Total Duplicate Rows: {duplicate_count}\")"
      ],
      "metadata": {
        "id": "1sLdpKYkmox0"
      },
      "execution_count": null,
      "outputs": []
    },
    {
      "cell_type": "markdown",
      "source": [
        "#### Missing Values/Null Values"
      ],
      "metadata": {
        "id": "PoPl-ycgm1ru"
      }
    },
    {
      "cell_type": "code",
      "source": [
        "# Missing Values/Null Values Count\n",
        "missing_values = df.isnull().sum()\n",
        "print(\"🔹 Missing Values in Each Column:\")\n",
        "print(missing_values)"
      ],
      "metadata": {
        "id": "GgHWkxvamxVg"
      },
      "execution_count": null,
      "outputs": []
    },
    {
      "cell_type": "code",
      "source": [
        "#using Missingno for a cleaner view\n",
        "msno.bar(df, color='tomato', figsize=(10,5))\n",
        "plt.title(\"Missing Values Overview\")\n",
        "plt.show()"
      ],
      "metadata": {
        "id": "3q5wnI3om9sJ"
      },
      "execution_count": null,
      "outputs": []
    },
    {
      "cell_type": "markdown",
      "source": [
        "### What did you know about your dataset?"
      ],
      "metadata": {
        "id": "H0kj-8xxnORC"
      }
    },
    {
      "cell_type": "markdown",
      "source": [
        "The Netflix dataset contains information about movies and TV shows available on the platform.\n",
        "It includes 12 columns such as title, director, cast, country, release year, rating, and duration.\n",
        "After inspection:\n",
        "\n",
        "The dataset has around 8,800+ records and 12 columns.\n",
        "\n",
        "Some columns like director, cast, and country have missing values.\n",
        "\n",
        "No major data type issues were found.\n",
        "\n",
        "There may be a few duplicate rows which can be removed before analysis.\n",
        "\n",
        "Overall, the dataset is clean and ready for further exploration."
      ],
      "metadata": {
        "id": "gfoNAAC-nUe_"
      }
    },
    {
      "cell_type": "markdown",
      "source": [
        "## ***2. Understanding Your Variables***"
      ],
      "metadata": {
        "id": "nA9Y7ga8ng1Z"
      }
    },
    {
      "cell_type": "code",
      "source": [
        "# Dataset Columns\n",
        "# Display all column names in the dataset\n",
        "print(\"🔹 Columns in the Dataset:\")\n",
        "print(df.columns.tolist())"
      ],
      "metadata": {
        "id": "j7xfkqrt5Ag5"
      },
      "execution_count": null,
      "outputs": []
    },
    {
      "cell_type": "code",
      "source": [
        "# Dataset Describe\n",
        "# Since most columns are categorical, describe(include='all') gives both numeric and object stats\n",
        "print(\"\\n🔹 Dataset Description:\")\n",
        "display(df.describe(include='all'))\n"
      ],
      "metadata": {
        "id": "DnOaZdaE5Q5t"
      },
      "execution_count": null,
      "outputs": []
    },
    {
      "cell_type": "markdown",
      "source": [
        "### Variables Description"
      ],
      "metadata": {
        "id": "PBTbrJXOngz2"
      }
    },
    {
      "cell_type": "markdown",
      "source": [
        "The dataset consists of 12 variables, each describing different characteristics of Netflix content:\n",
        "\n",
        "show_id: Unique identifier for each show/movie.\n",
        "\n",
        "type: Indicates whether the entry is a Movie or TV Show.\n",
        "\n",
        "title: Name of the show or movie.\n",
        "\n",
        "director: Director(s) of the show/movie (may have missing values).\n",
        "\n",
        "cast: Main actors involved in the show/movie (many missing entries).\n",
        "\n",
        "country: Country where the content was produced.\n",
        "\n",
        "date_added: Date when the content was added to Netflix.\n",
        "\n",
        "release_year: Year when the show/movie was originally released.\n",
        "\n",
        "rating: Content rating (e.g., TV-MA, PG-13, R, etc.).\n",
        "\n",
        "duration: Duration of the movie (in minutes) or number of seasons for TV shows.\n",
        "\n",
        "listed_in: Category or genre(s) of the content (e.g., Drama, Comedy, Action).\n",
        "\n",
        "description: Short summary of the content.\n",
        "\n",
        "From the unique value counts:\n",
        "\n",
        "type has 2 categories (Movies, TV Shows).\n",
        "\n",
        "release_year spans multiple decades (e.g., 1925–2021).\n",
        "\n",
        "rating has several classifications depending on age restrictions.\n",
        "\n",
        "listed_in contains multiple genres, often comma-separated."
      ],
      "metadata": {
        "id": "aJV4KIxSnxay"
      }
    },
    {
      "cell_type": "markdown",
      "source": [
        "### Check Unique Values for each variable."
      ],
      "metadata": {
        "id": "u3PMJOP6ngxN"
      }
    },
    {
      "cell_type": "code",
      "source": [
        "# Check Unique Values for each variable.\n",
        "print(\"\\n🔹 Unique Values Count for Each Column:\\n\")\n",
        "for col in df.columns:\n",
        "    print(f\"{col}: {df[col].nunique()} unique values\")"
      ],
      "metadata": {
        "id": "zms12Yq5n-jE"
      },
      "execution_count": null,
      "outputs": []
    },
    {
      "cell_type": "markdown",
      "source": [
        "## 3. ***Data Wrangling***"
      ],
      "metadata": {
        "id": "dauF4eBmngu3"
      }
    },
    {
      "cell_type": "markdown",
      "source": [
        "### Data Wrangling Code"
      ],
      "metadata": {
        "id": "bKJF3rekwFvQ"
      }
    },
    {
      "cell_type": "code",
      "source": [
        "# Remove Duplicate Rows\n",
        "before = df.shape[0]\n",
        "df.drop_duplicates(inplace=True)\n",
        "after = df.shape[0]\n",
        "print(f\"🔹 Removed {before - after} duplicate rows.\")\n",
        "\n",
        "\n",
        "# Handle Missing Values\n",
        "# Replace missing 'country', 'rating', 'director', 'cast' with 'Unknown'\n",
        "for col in ['country', 'rating', 'director', 'cast']:\n",
        "    df[col] = df[col].fillna('Unknown')\n",
        "\n",
        "# Fill missing 'date_added' with mode (most frequent date)\n",
        "df['date_added'] = df['date_added'].fillna(df['date_added'].mode()[0])\n",
        "\n",
        "\n",
        "# Feature Engineering: Clean 'duration'\n",
        "# Convert duration to numeric (for clustering)\n",
        "# For Movies -> extract minutes, For TV Shows -> extract number of seasons\n",
        "def convert_duration(value):\n",
        "    if 'min' in str(value):\n",
        "        return int(value.split(' ')[0])\n",
        "    elif 'Season' in str(value):\n",
        "        return int(value.split(' ')[0]) * 60  # Approx conversion to minutes\n",
        "    else:\n",
        "        return np.nan\n",
        "\n",
        "df['duration_mins'] = df['duration'].apply(convert_duration)\n",
        "\n",
        "# Fill missing duration_mins with median value\n",
        "df['duration_mins'] = df['duration_mins'].fillna(df['duration_mins'].median())\n",
        "\n",
        "\n",
        "# Convert 'date_added' to datetime format\n",
        "df['date_added'] = pd.to_datetime(df['date_added'], errors='coerce')\n",
        "\n",
        "# Extract month and year of addition for trend analysis\n",
        "df['year_added'] = df['date_added'].dt.year\n",
        "df['month_added'] = df['date_added'].dt.month\n",
        "\n",
        "\n",
        "# Verify Cleaned Dataset\n",
        "print(\"\\n🔹 Dataset after cleaning:\")\n",
        "display(df.head())\n",
        "\n",
        "print(\"\\n🔹 Missing Values after cleaning:\")\n",
        "print(df.isnull().sum())\n",
        "\n",
        "\n",
        "# Check Data Types\n",
        "print(\"\\n🔹 Data Types after Wrangling:\")\n",
        "print(df.dtypes)"
      ],
      "metadata": {
        "id": "wk-9a2fpoLcV"
      },
      "execution_count": null,
      "outputs": []
    },
    {
      "cell_type": "markdown",
      "source": [
        "### What all manipulations have you done and insights you found?"
      ],
      "metadata": {
        "id": "MSa1f5Uengrz"
      }
    },
    {
      "cell_type": "markdown",
      "source": [
        "Data Wrangling Summary & Insights:\n",
        "\n",
        "Removed all duplicate rows to ensure data consistency.\n",
        "\n",
        "Filled missing categorical values (country, rating, director, cast) with “Unknown” to avoid null-related issues.\n",
        "\n",
        "Converted duration into a numeric field (duration_mins) for clustering and analysis:\n",
        "\n",
        "Movies: converted from minutes.\n",
        "\n",
        "TV Shows: converted number of seasons into approximate minutes (×60).\n",
        "\n",
        "Converted date_added into proper datetime format and extracted year_added and month_added for time-based analysis.\n",
        "\n",
        "Ensured no missing values remain in key columns.\n",
        "\n",
        "Insights:\n",
        "\n",
        "Many entries had missing director and cast information — indicating incomplete metadata.\n",
        "\n",
        "Duration varies widely, showing Netflix has both short films and long TV series.\n",
        "\n",
        "date_added shows Netflix has been adding more content in recent years, suggesting platform growth.\n",
        "\n",
        "After these manipulations, the dataset is clean, standardized, and ready for visualization and clustering."
      ],
      "metadata": {
        "id": "LbyXE7I1olp8"
      }
    },
    {
      "cell_type": "markdown",
      "source": [
        "## ***4. Data Vizualization, Storytelling & Experimenting with charts : Understand the relationships between variables***"
      ],
      "metadata": {
        "id": "GF8Ens_Soomf"
      }
    },
    {
      "cell_type": "markdown",
      "source": [
        "#### Chart - 1"
      ],
      "metadata": {
        "id": "0wOQAZs5pc--"
      }
    },
    {
      "cell_type": "code",
      "source": [
        "# 📊 Chart 1 : Count of Movies vs TV Shows\n",
        "plt.figure(figsize=(7,5))\n",
        "ax = sns.countplot(x='type', data=df, palette='coolwarm')\n",
        "plt.title(\"Distribution of Content Type on Netflix\", fontsize=14, fontweight='bold')\n",
        "plt.xlabel(\"Type of Content\", fontsize=12)\n",
        "plt.ylabel(\"Count\", fontsize=12)\n",
        "\n",
        "# Adding labels on top of bars\n",
        "for p in ax.patches:\n",
        "    ax.annotate(f'{p.get_height()}', (p.get_x() + 0.3, p.get_height() + 50))\n",
        "\n",
        "plt.show()"
      ],
      "metadata": {
        "id": "7v_ESjsspbW7"
      },
      "execution_count": null,
      "outputs": []
    },
    {
      "cell_type": "markdown",
      "source": [
        "##### 1. Why did you pick the specific chart?"
      ],
      "metadata": {
        "id": "K5QZ13OEpz2H"
      }
    },
    {
      "cell_type": "markdown",
      "source": [
        "I chose a count plot (bar chart) because it effectively shows the comparison between two categorical variables — Movies and TV Shows.\n",
        "It provides a clear visual representation of how much of Netflix’s content library consists of movies versus TV shows."
      ],
      "metadata": {
        "id": "XESiWehPqBRc"
      }
    },
    {
      "cell_type": "markdown",
      "source": [
        "##### 2. What is/are the insight(s) found from the chart?"
      ],
      "metadata": {
        "id": "lQ7QKXXCp7Bj"
      }
    },
    {
      "cell_type": "markdown",
      "source": [
        "The visualization reveals that Movies dominate the Netflix catalog, making up around 70% of the total content, while TV Shows represent the remaining 30%.\n",
        "This suggests that Netflix has historically focused more on adding movies compared to TV shows."
      ],
      "metadata": {
        "id": "C_j1G7yiqdRP"
      }
    },
    {
      "cell_type": "markdown",
      "source": [
        "##### 3. Will the gained insights help creating a positive business impact?\n",
        "Are there any insights that lead to negative growth? Justify with specific reason."
      ],
      "metadata": {
        "id": "448CDAPjqfQr"
      }
    },
    {
      "cell_type": "markdown",
      "source": [
        "Yes.\n",
        "\n",
        "Positive Impact: Knowing that movies dominate the catalog helps Netflix assess whether it should expand its TV show portfolio to increase user retention, as series often lead to long-term engagement.\n",
        "\n",
        "Strategic Decision: If the platform observes higher user watch time or subscription retention for TV shows, it can rebalance the content ratio by producing or acquiring more series.\n",
        "\n",
        "No Negative Growth: However, over-prioritizing one category might reduce diversity, so maintaining a healthy balance is key."
      ],
      "metadata": {
        "id": "3cspy4FjqxJW"
      }
    },
    {
      "cell_type": "markdown",
      "source": [
        "#### Chart - 2"
      ],
      "metadata": {
        "id": "KSlN3yHqYklG"
      }
    },
    {
      "cell_type": "code",
      "source": [
        "# 📊 Chart 2 : Top 10 Countries with Most Netflix Titles\n",
        "# Split 'country' column since multiple countries can be listed for a single show\n",
        "country_data = df['country'].dropna().astype(str).str.split(',')\n",
        "country_counts = country_data.explode().str.strip().value_counts().head(10)\n",
        "\n",
        "plt.figure(figsize=(10,6))\n",
        "sns.barplot(x=country_counts.values, y=country_counts.index, palette='viridis')\n",
        "plt.title(\"Top 10 Countries Producing Netflix Content\", fontsize=14, fontweight='bold')\n",
        "plt.xlabel(\"Number of Titles\", fontsize=12)\n",
        "plt.ylabel(\"Country\", fontsize=12)\n",
        "\n",
        "# Add labels to bars\n",
        "for index, value in enumerate(country_counts.values):\n",
        "    plt.text(value + 5, index, str(value), va='center')\n",
        "\n",
        "plt.show()"
      ],
      "metadata": {
        "id": "R4YgtaqtYklH"
      },
      "execution_count": null,
      "outputs": []
    },
    {
      "cell_type": "markdown",
      "source": [
        "##### 1. Why did you pick the specific chart?"
      ],
      "metadata": {
        "id": "t6dVpIINYklI"
      }
    },
    {
      "cell_type": "markdown",
      "source": [
        "I selected a horizontal bar chart because it clearly shows which countries contribute the most content to Netflix’s catalog.\n",
        "Horizontal bars are especially effective when displaying categorical data with long text labels like country names.\n",
        "This visualization helps compare multiple categories quickly and highlights top-performing countries."
      ],
      "metadata": {
        "id": "5aaW0BYyYklI"
      }
    },
    {
      "cell_type": "markdown",
      "source": [
        "##### 2. What is/are the insight(s) found from the chart?"
      ],
      "metadata": {
        "id": "ijmpgYnKYklI"
      }
    },
    {
      "cell_type": "markdown",
      "source": [
        "The chart shows that the United States produces the largest number of Netflix titles, followed by India, the United Kingdom, Canada, and Japan.\n",
        "This indicates that Netflix’s content library is heavily dominated by English-speaking countries, although it also includes a growing amount of international content."
      ],
      "metadata": {
        "id": "PSx9atu2YklI"
      }
    },
    {
      "cell_type": "markdown",
      "source": [
        "##### 3. Will the gained insights help creating a positive business impact?\n",
        "Are there any insights that lead to negative growth? Justify with specific reason."
      ],
      "metadata": {
        "id": "-JiQyfWJYklI"
      }
    },
    {
      "cell_type": "markdown",
      "source": [
        "Yes.\n",
        "\n",
        "Positive Impact: These insights help Netflix understand which regions are its strongest production bases and where it can expand its regional partnerships.\n",
        "\n",
        "For instance, since India ranks high, Netflix can continue to invest in regional Indian-language content to capture a diverse user base.\n",
        "\n",
        "Strategic Opportunity: Countries with fewer titles (e.g., African or Middle Eastern regions) represent untapped markets that could boost global reach.\n",
        "\n",
        "Risk of Negative Growth: Over-dependence on U.S.-based content could lead to saturation and reduced cultural diversity, which may affect global subscriptions.\n",
        "Thus, balancing global content creation can strengthen Netflix’s market presence."
      ],
      "metadata": {
        "id": "BcBbebzrYklV"
      }
    },
    {
      "cell_type": "markdown",
      "source": [
        "#### Chart - 3"
      ],
      "metadata": {
        "id": "EM7whBJCYoAo"
      }
    },
    {
      "cell_type": "code",
      "source": [
        "# Chart - 3\n",
        "# 📊 Chart 3 : Trend of Netflix Content Added Over the Years\n",
        "\n",
        "# Convert 'date_added' to datetime and extract year\n",
        "df['date_added'] = pd.to_datetime(df['date_added'], errors='coerce')\n",
        "df['year_added'] = df['date_added'].dt.year\n",
        "\n",
        "# Count number of titles added each year\n",
        "yearly_counts = df['year_added'].value_counts().sort_index()\n",
        "\n",
        "# Plot\n",
        "plt.figure(figsize=(10,6))\n",
        "sns.lineplot(x=yearly_counts.index, y=yearly_counts.values, marker='o', color='coral')\n",
        "plt.title(\"Trend of Netflix Content Added Over the Years\", fontsize=14, fontweight='bold')\n",
        "plt.xlabel(\"Year Added\", fontsize=12)\n",
        "plt.ylabel(\"Number of Titles\", fontsize=12)\n",
        "plt.grid(axis='y', linestyle='--', alpha=0.6)\n",
        "\n",
        "# Add labels to each point\n",
        "for x, y in zip(yearly_counts.index, yearly_counts.values):\n",
        "    plt.text(x, y + 5, str(y), ha='center')\n",
        "\n",
        "plt.show()\n"
      ],
      "metadata": {
        "id": "t6GMdE67YoAp"
      },
      "execution_count": null,
      "outputs": []
    },
    {
      "cell_type": "markdown",
      "source": [
        "##### 1. Why did you pick the specific chart?"
      ],
      "metadata": {
        "id": "fge-S5ZAYoAp"
      }
    },
    {
      "cell_type": "markdown",
      "source": [
        "I chose a line chart because it clearly shows the trend of Netflix content additions over time. It helps visualize how Netflix expanded its library year by year"
      ],
      "metadata": {
        "id": "5dBItgRVYoAp"
      }
    },
    {
      "cell_type": "markdown",
      "source": [
        "##### 2. What is/are the insight(s) found from the chart?"
      ],
      "metadata": {
        "id": "85gYPyotYoAp"
      }
    },
    {
      "cell_type": "markdown",
      "source": [
        "The chart shows a significant increase in the number of titles added after 2015, peaking around 2018–2020. This indicates Netflix’s aggressive content expansion strategy during its global growth phase."
      ],
      "metadata": {
        "id": "4jstXR6OYoAp"
      }
    },
    {
      "cell_type": "markdown",
      "source": [
        "##### 3. Will the gained insights help creating a positive business impact?\n",
        "Are there any insights that lead to negative growth? Justify with specific reason."
      ],
      "metadata": {
        "id": "RoGjAbkUYoAp"
      }
    },
    {
      "cell_type": "markdown",
      "source": [
        "Positive impact: This growth trend suggests strong content production and acquisition strategies that attracted global audiences. It also shows Netflix’s investment in diverse content to strengthen its market position.\n",
        "\n",
        "Negative insight: If there’s a slight drop after 2020, it could be due to content saturation or strategic reduction, which might affect the perception of new variety but could improve quality control and brand consistency."
      ],
      "metadata": {
        "id": "zfJ8IqMcYoAp"
      }
    },
    {
      "cell_type": "markdown",
      "source": [
        "#### Chart - 4"
      ],
      "metadata": {
        "id": "4Of9eVA-YrdM"
      }
    },
    {
      "cell_type": "code",
      "source": [
        "# 📊 Chart 4 : Top 10 Directors with Most Titles\n",
        "\n",
        "director_counts = df['director'].dropna().astype(str).str.split(',')\n",
        "director_counts = director_counts.explode().str.strip().value_counts().head(10)\n",
        "\n",
        "plt.figure(figsize=(10,6))\n",
        "sns.barplot(x=director_counts.values, y=director_counts.index, palette='mako')\n",
        "plt.title(\"Top 10 Directors with Most Titles\", fontsize=14, fontweight='bold')\n",
        "plt.xlabel(\"Number of Titles\", fontsize=12)\n",
        "plt.ylabel(\"Director\", fontsize=12)\n",
        "\n",
        "for index, value in enumerate(director_counts.values):\n",
        "    plt.text(value + 2, index, str(value), va='center')\n",
        "\n",
        "plt.show()"
      ],
      "metadata": {
        "id": "irlUoxc8YrdO"
      },
      "execution_count": null,
      "outputs": []
    },
    {
      "cell_type": "markdown",
      "source": [
        "##### 1. Why did you pick the specific chart?"
      ],
      "metadata": {
        "id": "iky9q4vBYrdO"
      }
    },
    {
      "cell_type": "markdown",
      "source": [
        "A bar chart effectively highlights which directors have the most Netflix titles."
      ],
      "metadata": {
        "id": "aJRCwT6DYrdO"
      }
    },
    {
      "cell_type": "markdown",
      "source": [
        "##### 2. What is/are the insight(s) found from the chart?"
      ],
      "metadata": {
        "id": "F6T5p64dYrdO"
      }
    },
    {
      "cell_type": "markdown",
      "source": [
        "Certain directors like Raul Campos and Marcus Raboy dominate the list, showing their frequent collaborations with Netflix."
      ],
      "metadata": {
        "id": "Xx8WAJvtYrdO"
      }
    },
    {
      "cell_type": "markdown",
      "source": [
        "##### 3. Will the gained insights help creating a positive business impact?\n",
        "Are there any insights that lead to negative growth? Justify with specific reason."
      ],
      "metadata": {
        "id": "y-Ehk30pYrdP"
      }
    },
    {
      "cell_type": "markdown",
      "source": [
        "Helps Netflix identify top-performing creators and maintain partnerships.\n",
        "No negative growth — consistency in creative collaboration improves content quality."
      ],
      "metadata": {
        "id": "jLNxxz7MYrdP"
      }
    },
    {
      "cell_type": "markdown",
      "source": [
        "#### Chart - 5"
      ],
      "metadata": {
        "id": "bamQiAODYuh1"
      }
    },
    {
      "cell_type": "code",
      "source": [
        "# 📊 Chart 5 : Top 10 Actors/Actresses on Netflix\n",
        "\n",
        "cast_data = df['cast'].dropna().astype(str).str.split(',')\n",
        "cast_counts = cast_data.explode().str.strip().value_counts().head(10)\n",
        "\n",
        "plt.figure(figsize=(10,6))\n",
        "sns.barplot(x=cast_counts.values, y=cast_counts.index, palette='cool')\n",
        "plt.title(\"Top 10 Actors/Actresses Appearing in Netflix Titles\", fontsize=14, fontweight='bold')\n",
        "plt.xlabel(\"Number of Titles\", fontsize=12)\n",
        "plt.ylabel(\"Actor/Actress\", fontsize=12)\n",
        "\n",
        "for index, value in enumerate(cast_counts.values):\n",
        "    plt.text(value + 2, index, str(value), va='center')\n",
        "\n",
        "plt.show()\n"
      ],
      "metadata": {
        "id": "TIJwrbroYuh3"
      },
      "execution_count": null,
      "outputs": []
    },
    {
      "cell_type": "markdown",
      "source": [
        "##### 1. Why did you pick the specific chart?"
      ],
      "metadata": {
        "id": "QHF8YVU7Yuh3"
      }
    },
    {
      "cell_type": "markdown",
      "source": [
        "Shows the most frequently featured actors/actresses — a bar chart is perfect for this comparison."
      ],
      "metadata": {
        "id": "dcxuIMRPYuh3"
      }
    },
    {
      "cell_type": "markdown",
      "source": [
        "##### 2. What is/are the insight(s) found from the chart?"
      ],
      "metadata": {
        "id": "GwzvFGzlYuh3"
      }
    },
    {
      "cell_type": "markdown",
      "source": [
        "Few actors appear across multiple shows/movies, indicating Netflix’s preference for proven talent."
      ],
      "metadata": {
        "id": "uyqkiB8YYuh3"
      }
    },
    {
      "cell_type": "markdown",
      "source": [
        "##### 3. Will the gained insights help creating a positive business impact?\n",
        "Are there any insights that lead to negative growth? Justify with specific reason."
      ],
      "metadata": {
        "id": "qYpmQ266Yuh3"
      }
    },
    {
      "cell_type": "markdown",
      "source": [
        "Helps Netflix strengthen relationships with popular actors who drive viewership.\n",
        "No negative trend — repeated appearances reinforce brand familiarity."
      ],
      "metadata": {
        "id": "_WtzZ_hCYuh4"
      }
    },
    {
      "cell_type": "markdown",
      "source": [
        "#### Chart - 6"
      ],
      "metadata": {
        "id": "OH-pJp9IphqM"
      }
    },
    {
      "cell_type": "code",
      "source": [
        "# 📊 Chart 6 : Distribution of Content Ratings\n",
        "\n",
        "rating_counts = df['rating'].value_counts().head(10)\n",
        "\n",
        "plt.figure(figsize=(10,6))\n",
        "sns.barplot(x=rating_counts.values, y=rating_counts.index, palette='viridis')\n",
        "plt.title(\"Distribution of Netflix Content Ratings\", fontsize=14, fontweight='bold')\n",
        "plt.xlabel(\"Number of Titles\", fontsize=12)\n",
        "plt.ylabel(\"Rating\", fontsize=12)\n",
        "\n",
        "for index, value in enumerate(rating_counts.values):\n",
        "    plt.text(value + 10, index, str(value), va='center')\n",
        "\n",
        "plt.show()\n"
      ],
      "metadata": {
        "id": "kuRf4wtuphqN"
      },
      "execution_count": null,
      "outputs": []
    },
    {
      "cell_type": "markdown",
      "source": [
        "##### 1. Why did you pick the specific chart?"
      ],
      "metadata": {
        "id": "bbFf2-_FphqN"
      }
    },
    {
      "cell_type": "markdown",
      "source": [
        "A bar chart clearly shows which content ratings dominate the platform."
      ],
      "metadata": {
        "id": "loh7H2nzphqN"
      }
    },
    {
      "cell_type": "markdown",
      "source": [
        "##### 2. What is/are the insight(s) found from the chart?"
      ],
      "metadata": {
        "id": "_ouA3fa0phqN"
      }
    },
    {
      "cell_type": "markdown",
      "source": [
        "Ratings like TV-MA and TV-14 appear most often, suggesting a focus on mature and teen audiences."
      ],
      "metadata": {
        "id": "VECbqPI7phqN"
      }
    },
    {
      "cell_type": "markdown",
      "source": [
        "##### 3. Will the gained insights help creating a positive business impact?\n",
        "Are there any insights that lead to negative growth? Justify with specific reason."
      ],
      "metadata": {
        "id": "Seke61FWphqN"
      }
    },
    {
      "cell_type": "markdown",
      "source": [
        "Positive — helps Netflix target audience preferences effectively.\n",
        "Minor negative — less family content might limit younger demographics."
      ],
      "metadata": {
        "id": "DW4_bGpfphqN"
      }
    },
    {
      "cell_type": "markdown",
      "source": [
        "#### Chart - 7"
      ],
      "metadata": {
        "id": "PIIx-8_IphqN"
      }
    },
    {
      "cell_type": "code",
      "source": [
        "# 📊 Chart 7 : Most Common Genres on Netflix\n",
        "\n",
        "genres = df['listed_in'].dropna().astype(str).str.split(',')\n",
        "genre_counts = genres.explode().str.strip().value_counts().head(10)\n",
        "\n",
        "plt.figure(figsize=(10,6))\n",
        "sns.barplot(x=genre_counts.values, y=genre_counts.index, palette='cubehelix')\n",
        "plt.title(\"Top 10 Genres on Netflix\", fontsize=14, fontweight='bold')\n",
        "plt.xlabel(\"Number of Titles\", fontsize=12)\n",
        "plt.ylabel(\"Genre\", fontsize=12)\n",
        "\n",
        "for index, value in enumerate(genre_counts.values):\n",
        "    plt.text(value + 5, index, str(value), va='center')\n",
        "\n",
        "plt.show()\n"
      ],
      "metadata": {
        "id": "lqAIGUfyphqO"
      },
      "execution_count": null,
      "outputs": []
    },
    {
      "cell_type": "markdown",
      "source": [
        "##### 1. Why did you pick the specific chart?"
      ],
      "metadata": {
        "id": "t27r6nlMphqO"
      }
    },
    {
      "cell_type": "markdown",
      "source": [
        "Shows genre diversity — bar chart provides easy comparison."
      ],
      "metadata": {
        "id": "iv6ro40sphqO"
      }
    },
    {
      "cell_type": "markdown",
      "source": [
        "##### 2. What is/are the insight(s) found from the chart?"
      ],
      "metadata": {
        "id": "r2jJGEOYphqO"
      }
    },
    {
      "cell_type": "markdown",
      "source": [
        "“International Movies” and “Dramas” dominate, showing global appeal and demand for emotional storytelling."
      ],
      "metadata": {
        "id": "Po6ZPi4hphqO"
      }
    },
    {
      "cell_type": "markdown",
      "source": [
        "##### 3. Will the gained insights help creating a positive business impact?\n",
        "Are there any insights that lead to negative growth? Justify with specific reason."
      ],
      "metadata": {
        "id": "b0JNsNcRphqO"
      }
    },
    {
      "cell_type": "markdown",
      "source": [
        "Helps Netflix prioritize investment in high-demand genres.\n",
        "No negative insight — popular genres drive engagement."
      ],
      "metadata": {
        "id": "xvSq8iUTphqO"
      }
    },
    {
      "cell_type": "markdown",
      "source": [
        "#### Chart - 8"
      ],
      "metadata": {
        "id": "BZR9WyysphqO"
      }
    },
    {
      "cell_type": "code",
      "source": [
        "# 📊 Chart 8 : Movies vs TV Shows Added Over the Years\n",
        "\n",
        "df['date_added'] = pd.to_datetime(df['date_added'], errors='coerce')\n",
        "df['year_added'] = df['date_added'].dt.year\n",
        "\n",
        "type_year = df.groupby(['year_added', 'type']).size().unstack().fillna(0)\n",
        "\n",
        "plt.figure(figsize=(10,6))\n",
        "type_year.plot(kind='line', marker='o', figsize=(10,6))\n",
        "plt.title(\"Movies vs TV Shows Added Over the Years\", fontsize=14, fontweight='bold')\n",
        "plt.xlabel(\"Year Added\", fontsize=12)\n",
        "plt.ylabel(\"Number of Titles\", fontsize=12)\n",
        "plt.grid(True, linestyle='--', alpha=0.6)\n",
        "plt.show()\n"
      ],
      "metadata": {
        "id": "TdPTWpAVphqO"
      },
      "execution_count": null,
      "outputs": []
    },
    {
      "cell_type": "markdown",
      "source": [
        "##### 1. Why did you pick the specific chart?"
      ],
      "metadata": {
        "id": "jj7wYXLtphqO"
      }
    },
    {
      "cell_type": "markdown",
      "source": [
        "Line charts highlight year-wise growth trends for both content types."
      ],
      "metadata": {
        "id": "Ob8u6rCTphqO"
      }
    },
    {
      "cell_type": "markdown",
      "source": [
        "##### 2. What is/are the insight(s) found from the chart?"
      ],
      "metadata": {
        "id": "eZrbJ2SmphqO"
      }
    },
    {
      "cell_type": "markdown",
      "source": [
        "Movies dominate early years; TV Shows rise rapidly after 2017."
      ],
      "metadata": {
        "id": "mZtgC_hjphqO"
      }
    },
    {
      "cell_type": "markdown",
      "source": [
        "##### 3. Will the gained insights help creating a positive business impact?\n",
        "Are there any insights that lead to negative growth? Justify with specific reason."
      ],
      "metadata": {
        "id": "rFu4xreNphqO"
      }
    },
    {
      "cell_type": "markdown",
      "source": [
        "Positive — helps plan future balance between series and films.\n",
        "No negative impact unless one format overshadows user demand."
      ],
      "metadata": {
        "id": "ey_0qi68phqO"
      }
    },
    {
      "cell_type": "markdown",
      "source": [
        "#### Chart - 9"
      ],
      "metadata": {
        "id": "YJ55k-q6phqO"
      }
    },
    {
      "cell_type": "code",
      "source": [
        "# 📊 Chart 9 : Average Duration of Movies\n",
        "\n",
        "movies = df[df['type'] == 'Movie']\n",
        "movies['duration_minutes'] = movies['duration'].str.replace(' min', '').astype(float)\n",
        "\n",
        "plt.figure(figsize=(8,6))\n",
        "sns.histplot(movies['duration_minutes'], bins=20, kde=True, color='teal')\n",
        "plt.title(\"Distribution of Movie Duration on Netflix\", fontsize=14, fontweight='bold')\n",
        "plt.xlabel(\"Duration (Minutes)\", fontsize=12)\n",
        "plt.ylabel(\"Count\", fontsize=12)\n",
        "plt.show()\n"
      ],
      "metadata": {
        "id": "B2aS4O1ophqO"
      },
      "execution_count": null,
      "outputs": []
    },
    {
      "cell_type": "markdown",
      "source": [
        "##### 1. Why did you pick the specific chart?"
      ],
      "metadata": {
        "id": "gCFgpxoyphqP"
      }
    },
    {
      "cell_type": "markdown",
      "source": [
        "Histogram shows distribution and range of movie durations."
      ],
      "metadata": {
        "id": "TVxDimi2phqP"
      }
    },
    {
      "cell_type": "markdown",
      "source": [
        "##### 2. What is/are the insight(s) found from the chart?"
      ],
      "metadata": {
        "id": "OVtJsKN_phqQ"
      }
    },
    {
      "cell_type": "markdown",
      "source": [
        "Most movies fall between 80–120 minutes."
      ],
      "metadata": {
        "id": "ngGi97qjphqQ"
      }
    },
    {
      "cell_type": "markdown",
      "source": [
        "##### 3. Will the gained insights help creating a positive business impact?\n",
        "Are there any insights that lead to negative growth? Justify with specific reason."
      ],
      "metadata": {
        "id": "lssrdh5qphqQ"
      }
    },
    {
      "cell_type": "markdown",
      "source": [
        "Positive — helps Netflix understand preferred movie length for audiences.\n",
        "No negative trend — consistent durations align with global standards."
      ],
      "metadata": {
        "id": "tBpY5ekJphqQ"
      }
    },
    {
      "cell_type": "markdown",
      "source": [
        "#### Chart - 10"
      ],
      "metadata": {
        "id": "U2RJ9gkRphqQ"
      }
    },
    {
      "cell_type": "code",
      "source": [
        "# 📊 Chart 10 : Content Share by Type\n",
        "\n",
        "type_counts = df['type'].value_counts()\n",
        "\n",
        "plt.figure(figsize=(6,6))\n",
        "plt.pie(type_counts, labels=type_counts.index, autopct='%1.1f%%', colors=['#66b3ff','#ff9999'])\n",
        "plt.title(\"Share of Movies vs TV Shows\", fontsize=14, fontweight='bold')\n",
        "plt.show()\n"
      ],
      "metadata": {
        "id": "GM7a4YP4phqQ"
      },
      "execution_count": null,
      "outputs": []
    },
    {
      "cell_type": "markdown",
      "source": [
        "##### 1. Why did you pick the specific chart?"
      ],
      "metadata": {
        "id": "1M8mcRywphqQ"
      }
    },
    {
      "cell_type": "markdown",
      "source": [
        "A pie chart visually represents proportion between Movies and TV Shows."
      ],
      "metadata": {
        "id": "8agQvks0phqQ"
      }
    },
    {
      "cell_type": "markdown",
      "source": [
        "##### 2. What is/are the insight(s) found from the chart?"
      ],
      "metadata": {
        "id": "tgIPom80phqQ"
      }
    },
    {
      "cell_type": "markdown",
      "source": [
        "Movies form the majority of Netflix content."
      ],
      "metadata": {
        "id": "Qp13pnNzphqQ"
      }
    },
    {
      "cell_type": "markdown",
      "source": [
        "##### 3. Will the gained insights help creating a positive business impact?\n",
        "Are there any insights that lead to negative growth? Justify with specific reason."
      ],
      "metadata": {
        "id": "JMzcOPDDphqR"
      }
    },
    {
      "cell_type": "markdown",
      "source": [
        "Positive — visual clarity for decision-making.\n",
        "No negative growth, but balance could improve audience retention."
      ],
      "metadata": {
        "id": "R4Ka1PC2phqR"
      }
    },
    {
      "cell_type": "markdown",
      "source": [
        "#### Chart - 11"
      ],
      "metadata": {
        "id": "x-EpHcCOp1ci"
      }
    },
    {
      "cell_type": "code",
      "source": [
        "# 📊 Chart 11 : Top 10 Years with Most Releases\n",
        "\n",
        "yearly_release = df['release_year'].value_counts().head(10)\n",
        "\n",
        "plt.figure(figsize=(10,6))\n",
        "sns.barplot(x=yearly_release.index, y=yearly_release.values, palette='plasma')\n",
        "plt.title(\"Top 10 Years with Most Netflix Releases\", fontsize=14, fontweight='bold')\n",
        "plt.xlabel(\"Release Year\", fontsize=12)\n",
        "plt.ylabel(\"Number of Titles\", fontsize=12)\n",
        "\n",
        "for index, value in enumerate(yearly_release.values):\n",
        "    plt.text(index, value + 10, str(value), ha='center')\n",
        "\n",
        "plt.show()\n"
      ],
      "metadata": {
        "id": "mAQTIvtqp1cj"
      },
      "execution_count": null,
      "outputs": []
    },
    {
      "cell_type": "markdown",
      "source": [
        "##### 1. Why did you pick the specific chart?"
      ],
      "metadata": {
        "id": "X_VqEhTip1ck"
      }
    },
    {
      "cell_type": "markdown",
      "source": [
        "A bar chart is ideal for year-wise comparisons."
      ],
      "metadata": {
        "id": "-vsMzt_np1ck"
      }
    },
    {
      "cell_type": "markdown",
      "source": [
        "##### 2. What is/are the insight(s) found from the chart?"
      ],
      "metadata": {
        "id": "8zGJKyg5p1ck"
      }
    },
    {
      "cell_type": "markdown",
      "source": [
        "Most titles were released after 2015, showing Netflix’s modern content dominance."
      ],
      "metadata": {
        "id": "ZYdMsrqVp1ck"
      }
    },
    {
      "cell_type": "markdown",
      "source": [
        "##### 3. Will the gained insights help creating a positive business impact?\n",
        "Are there any insights that lead to negative growth? Justify with specific reason."
      ],
      "metadata": {
        "id": "PVzmfK_Ep1ck"
      }
    },
    {
      "cell_type": "markdown",
      "source": [
        "Positive — proves Netflix’s peak production era.\n",
        "No negative aspect unless old titles decline in relevance."
      ],
      "metadata": {
        "id": "druuKYZpp1ck"
      }
    },
    {
      "cell_type": "markdown",
      "source": [
        "#### Chart - 12"
      ],
      "metadata": {
        "id": "n3dbpmDWp1ck"
      }
    },
    {
      "cell_type": "code",
      "source": [
        "# 📊 Chart 12 : Number of Titles by Country and Type\n",
        "\n",
        "country_type = df.groupby(['country', 'type']).size().reset_index(name='count')\n",
        "top_countries = country_type.groupby('country')['count'].sum().nlargest(5).index\n",
        "filtered_data = country_type[country_type['country'].isin(top_countries)]\n",
        "\n",
        "plt.figure(figsize=(10,6))\n",
        "sns.barplot(data=filtered_data, x='country', y='count', hue='type', palette='viridis')\n",
        "plt.title(\"Number of Titles by Country and Type\", fontsize=14, fontweight='bold')\n",
        "plt.xlabel(\"Country\", fontsize=12)\n",
        "plt.ylabel(\"Number of Titles\", fontsize=12)\n",
        "plt.show()\n"
      ],
      "metadata": {
        "id": "bwevp1tKp1ck"
      },
      "execution_count": null,
      "outputs": []
    },
    {
      "cell_type": "markdown",
      "source": [
        "##### 1. Why did you pick the specific chart?"
      ],
      "metadata": {
        "id": "ylSl6qgtp1ck"
      }
    },
    {
      "cell_type": "markdown",
      "source": [
        "Grouped bar chart shows how each country contributes across Movies and TV Shows."
      ],
      "metadata": {
        "id": "m2xqNkiQp1ck"
      }
    },
    {
      "cell_type": "markdown",
      "source": [
        "##### 2. What is/are the insight(s) found from the chart?"
      ],
      "metadata": {
        "id": "ZWILFDl5p1ck"
      }
    },
    {
      "cell_type": "markdown",
      "source": [
        "The US dominates both categories, while India leans more towards movies."
      ],
      "metadata": {
        "id": "x-lUsV2mp1ck"
      }
    },
    {
      "cell_type": "markdown",
      "source": [
        "##### 3. Will the gained insights help creating a positive business impact?\n",
        "Are there any insights that lead to negative growth? Justify with specific reason."
      ],
      "metadata": {
        "id": "M7G43BXep1ck"
      }
    },
    {
      "cell_type": "markdown",
      "source": [
        "Positive — helps in regional strategy planning.\n",
        "No negative aspect unless imbalance affects diversity."
      ],
      "metadata": {
        "id": "5wwDJXsLp1cl"
      }
    },
    {
      "cell_type": "markdown",
      "source": [
        "#### Chart - 13"
      ],
      "metadata": {
        "id": "Ag9LCva-p1cl"
      }
    },
    {
      "cell_type": "code",
      "source": [
        "# 📊 Chart 13 : Word Cloud of Movie Descriptions\n",
        "\n",
        "from wordcloud import WordCloud\n",
        "\n",
        "text = \" \".join(df['description'].dropna())\n",
        "wordcloud = WordCloud(width=1000, height=600, background_color='white', colormap='cool').generate(text)\n",
        "\n",
        "plt.figure(figsize=(10,6))\n",
        "plt.imshow(wordcloud, interpolation='bilinear')\n",
        "plt.axis('off')\n",
        "plt.title(\"Most Common Words in Netflix Descriptions\", fontsize=14, fontweight='bold')\n",
        "plt.show()\n"
      ],
      "metadata": {
        "id": "EUfxeq9-p1cl"
      },
      "execution_count": null,
      "outputs": []
    },
    {
      "cell_type": "markdown",
      "source": [
        "##### 1. Why did you pick the specific chart?"
      ],
      "metadata": {
        "id": "E6MkPsBcp1cl"
      }
    },
    {
      "cell_type": "markdown",
      "source": [
        "A word cloud visually emphasizes frequently used words in descriptions."
      ],
      "metadata": {
        "id": "V22bRsFWp1cl"
      }
    },
    {
      "cell_type": "markdown",
      "source": [
        "##### 2. What is/are the insight(s) found from the chart?"
      ],
      "metadata": {
        "id": "2cELzS2fp1cl"
      }
    },
    {
      "cell_type": "markdown",
      "source": [
        "Words like love, family, crime, drama, and life dominate, indicating popular content themes."
      ],
      "metadata": {
        "id": "ozQPc2_Ip1cl"
      }
    },
    {
      "cell_type": "markdown",
      "source": [
        "##### 3. Will the gained insights help creating a positive business impact?\n",
        "Are there any insights that lead to negative growth? Justify with specific reason."
      ],
      "metadata": {
        "id": "3MPXvC8up1cl"
      }
    },
    {
      "cell_type": "markdown",
      "source": [
        "Positive — shows Netflix’s thematic focus areas.\n",
        "No negative impact — reinforces brand identity around emotional and dramatic content."
      ],
      "metadata": {
        "id": "GL8l1tdLp1cl"
      }
    },
    {
      "cell_type": "markdown",
      "source": [
        "#### Chart - 14 - Correlation Heatmap"
      ],
      "metadata": {
        "id": "NC_X3p0fY2L0"
      }
    },
    {
      "cell_type": "code",
      "source": [
        "# 📊 Chart 14 : Correlation Heatmap\n",
        "\n",
        "# Select numeric columns only\n",
        "numeric_df = df.select_dtypes(include=['number'])\n",
        "\n",
        "# Create correlation matrix\n",
        "corr_matrix = numeric_df.corr()\n",
        "\n",
        "# Plot heatmap\n",
        "plt.figure(figsize=(8,6))\n",
        "sns.heatmap(corr_matrix, annot=True, cmap='coolwarm', fmt=\".2f\", linewidths=0.5)\n",
        "plt.title(\"Correlation Heatmap of Numeric Features\", fontsize=14, fontweight='bold')\n",
        "plt.show()\n"
      ],
      "metadata": {
        "id": "xyC9zolEZNRQ"
      },
      "execution_count": null,
      "outputs": []
    },
    {
      "cell_type": "markdown",
      "source": [
        "##### 1. Why did you pick the specific chart?"
      ],
      "metadata": {
        "id": "UV0SzAkaZNRQ"
      }
    },
    {
      "cell_type": "markdown",
      "source": [
        "I chose a correlation heatmap because it visually represents relationships between numeric variables. It’s ideal for understanding how features like release year, duration, or other numeric fields relate to each other."
      ],
      "metadata": {
        "id": "DVPuT8LYZNRQ"
      }
    },
    {
      "cell_type": "markdown",
      "source": [
        "##### 2. What is/are the insight(s) found from the chart?"
      ],
      "metadata": {
        "id": "YPEH6qLeZNRQ"
      }
    },
    {
      "cell_type": "markdown",
      "source": [
        "Answer HereSince most columns in the Netflix dataset are categorical, the correlations are generally weak. However, if additional numeric columns exist (like release_year or duration_minutes), we can observe patterns such as newer releases having shorter or more standardized durations."
      ],
      "metadata": {
        "id": "bfSqtnDqZNRR"
      }
    },
    {
      "cell_type": "markdown",
      "source": [
        "#### Chart - 15 - Pair Plot"
      ],
      "metadata": {
        "id": "q29F0dvdveiT"
      }
    },
    {
      "cell_type": "code",
      "source": [
        "# 📊 Chart 15 : Pair Plot\n",
        "\n",
        "# Convert 'date_added' to datetime and extract numeric columns\n",
        "df['date_added'] = pd.to_datetime(df['date_added'], errors='coerce')\n",
        "df['year_added'] = df['date_added'].dt.year\n",
        "\n",
        "# Prepare a smaller dataset with only numeric columns\n",
        "pair_df = df[['release_year', 'year_added']].dropna()\n",
        "\n",
        "# Plot pair plot\n",
        "plt.figure(figsize=(8,6))\n",
        "sns.pairplot(pair_df, diag_kind='kde', corner=True, plot_kws={'alpha':0.6})\n",
        "plt.suptitle(\"Pair Plot of Numeric Features\", y=1.02, fontsize=14, fontweight='bold')\n",
        "plt.show()\n"
      ],
      "metadata": {
        "id": "o58-TEIhveiU"
      },
      "execution_count": null,
      "outputs": []
    },
    {
      "cell_type": "markdown",
      "source": [
        "##### 1. Why did you pick the specific chart?"
      ],
      "metadata": {
        "id": "EXh0U9oCveiU"
      }
    },
    {
      "cell_type": "markdown",
      "source": [
        "A pair plot allows visualization of relationships and distributions between multiple numeric variables simultaneously. It helps detect linear or non-linear patterns, outliers, and feature relationships."
      ],
      "metadata": {
        "id": "eMmPjTByveiU"
      }
    },
    {
      "cell_type": "markdown",
      "source": [
        "##### 2. What is/are the insight(s) found from the chart?"
      ],
      "metadata": {
        "id": "22aHeOlLveiV"
      }
    },
    {
      "cell_type": "markdown",
      "source": [
        "In the Netflix dataset, numeric relationships (like between release_year and year_added) show that most titles were released and added around the same few years, indicating consistent catalog updates of recent content."
      ],
      "metadata": {
        "id": "uPQ8RGwHveiV"
      }
    },
    {
      "cell_type": "markdown",
      "source": [
        "## **5. Solution to Business Objective**"
      ],
      "metadata": {
        "id": "JcMwzZxoAimU"
      }
    },
    {
      "cell_type": "markdown",
      "source": [
        "#### What do you suggest the client to achieve Business Objective ?\n",
        "Explain Briefly."
      ],
      "metadata": {
        "id": "8G2x9gOozGDZ"
      }
    },
    {
      "cell_type": "markdown",
      "source": [
        "Based on the visual analyses and insights from all the charts, the client (Netflix or any similar streaming platform) should focus on data-driven content strategy to achieve the business objective of maximizing viewer engagement and subscriber growth.\n",
        "\n",
        "Key recommendations:\n",
        "\n",
        "Invest in High-Performing Regions:\n",
        "Countries like the United States, India, and the United Kingdom dominate content production — continuing to strengthen collaborations in these regions can expand the audience base.\n",
        "\n",
        "Optimize Genre & Rating Mix:\n",
        "Since genres like Dramas, Comedies, and International Movies are most popular, Netflix should create or acquire more titles in these categories while balancing age ratings to include more family-friendly options.\n",
        "\n",
        "Focus on Recent Releases:\n",
        "Data shows most content is added after 2015 — maintaining this trend of modern, up-to-date releases will keep the platform relevant and appealing.\n",
        "\n",
        "Encourage Top Directors and Actors:\n",
        "Building partnerships with frequently featured directors and actors can ensure consistent quality and strong brand association.\n",
        "\n",
        "Maintain Optimal Content Length:\n",
        "Most successful movies fall between 80–120 minutes — this insight can guide content development and editing decisions.\n",
        "\n",
        "Leverage Predictive Analytics:\n",
        "Using correlation and trend analysis, Netflix can forecast content success, recommend shows more effectively, and plan production schedules intelligently."
      ],
      "metadata": {
        "id": "pASKb0qOza21"
      }
    },
    {
      "cell_type": "markdown",
      "source": [
        "# **Conclusion**"
      ],
      "metadata": {
        "id": "gCX9965dhzqZ"
      }
    },
    {
      "cell_type": "markdown",
      "source": [
        "In conclusion, the analysis of the Netflix dataset provides valuable insights into the platform’s content distribution, regional presence, and strategic focus. The findings reveal that movies dominate over TV shows, with the United States, India, and the United Kingdom being the top content-producing countries. Over the years, Netflix has shown a strong upward trend in content addition, especially after 2015, reflecting its rapid global expansion.\n",
        "\n",
        "The most common genres such as Dramas, Comedies, and International Movies indicate a strong audience preference for emotional and globally relatable stories. The dominance of ratings like TV-MA and TV-14 shows that Netflix primarily caters to mature and teen audiences.\n",
        "\n",
        "Overall, this project demonstrates how data visualization and analysis can uncover actionable insights that help streaming platforms like Netflix optimize their content strategy, improve audience targeting, and make data-backed business decisions. The insights gained can guide Netflix to maintain its competitive edge by focusing on regional diversity, popular genres, and consistent quality content to maximize viewer satisfaction and global growth."
      ],
      "metadata": {
        "id": "Fjb1IsQkh3yE"
      }
    },
    {
      "cell_type": "markdown",
      "source": [
        "### ***Hurrah! You have successfully completed your EDA Capstone Project !!!***"
      ],
      "metadata": {
        "id": "gIfDvo9L0UH2"
      }
    },
    {
      "cell_type": "code",
      "source": [],
      "metadata": {
        "id": "dYX880etpL0x"
      },
      "execution_count": null,
      "outputs": []
    },
    {
      "cell_type": "code",
      "source": [],
      "metadata": {
        "id": "-6Vl263upPVI"
      },
      "execution_count": null,
      "outputs": []
    }
  ]
}